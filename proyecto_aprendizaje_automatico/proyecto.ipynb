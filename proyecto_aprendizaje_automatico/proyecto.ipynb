{
 "cells": [
  {
   "cell_type": "markdown",
   "id": "49825687",
   "metadata": {},
   "source": [
    "Partes del anteproyecto: \n",
    "\n",
    "\n",
    "JUSTIFICACIÓN (por qué se eligió el tema) (Carlos)\n",
    "\n",
    "\n",
    "ANTECEDENTES (al menos 4 artículos científicos relacionados con el tema, mencionar el objetivo del artículo, explicar la relación con el proyecto y colocar la referencia) (Carlos)\n",
    "\n",
    "\n",
    "\n",
    "\n",
    "MARCO TEÓRICO:\n",
    "Describir (con fundamentos matemáticos en markdown) la selección de algoritmos a utilizar (se deben seleccionar al menos dos algoritmos de aprendizaje automático)\n",
    "Algoritmos a utilizar:\n",
    "* MLP (Paula)\n",
    "* Árboles de Decisión (Carlos)\n",
    "\n",
    "\n",
    "\n",
    "DEFINICIÓN DEL EXPERIMENTO (qué se va a hacer exactamente)(Paula) \n",
    "\n",
    "\n",
    "\n",
    "PLAN DE TRABAJO (cronograma y pasos) (Carlos)\n",
    "\n",
    "\n",
    "\n",
    "FUENTES DE DATOS. (Paula) "
   ]
  },
  {
   "cell_type": "markdown",
   "id": "b690fb10",
   "metadata": {},
   "source": []
  }
 ],
 "metadata": {
  "language_info": {
   "name": "python"
  }
 },
 "nbformat": 4,
 "nbformat_minor": 5
}
