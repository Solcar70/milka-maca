{
 "cells": [
  {
   "cell_type": "markdown",
   "id": "49825687",
   "metadata": {},
   "source": [
    "Partes del anteproyecto: justificación (por qué se eligió el tema), Antecedentes (al menos 4 artículos científicos relacionados con el tema, mencionar el objetivo del artículo, explicar la relación con el proyecto y colocar la referencia), marco teórico que describa (con fundamentos matemáticos en markdown) la selección de algoritmos a utilizar (se deben seleccionar al menos dos algoritmos de aprendizaje automático), definición del experimento (qué se va a hacer exactamente), plan de trabajo (cronograma y pasos) y fuentes de datos. \n",
    "\n",
    "\n",
    "MACARENA\n",
    "\n",
    "\n",
    "\n",
    "MILKA"
   ]
  }
 ],
 "metadata": {
  "language_info": {
   "name": "python"
  }
 },
 "nbformat": 4,
 "nbformat_minor": 5
}
