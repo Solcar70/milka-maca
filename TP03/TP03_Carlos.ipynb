{
 "cells": [
  {
   "cell_type": "markdown",
   "id": "e9da7237",
   "metadata": {},
   "source": [
    "Prueba"
   ]
  }
 ],
 "metadata": {
  "language_info": {
   "name": "python"
  }
 },
 "nbformat": 4,
 "nbformat_minor": 5
}
